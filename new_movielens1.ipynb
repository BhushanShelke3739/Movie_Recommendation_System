{
 "cells": [
  {
   "cell_type": "code",
   "execution_count": 1,
   "id": "940a7386-f655-4fc8-ab08-7533d4af7ac6",
   "metadata": {
    "id": "940a7386-f655-4fc8-ab08-7533d4af7ac6",
    "tags": []
   },
   "outputs": [],
   "source": [
    "# importing necessary libraries\n",
    "import numpy as np\n",
    "import pandas as pd\n",
    "import matplotlib.pyplot as plt\n",
    "import pickle"
   ]
  },
  {
   "cell_type": "code",
   "execution_count": 2,
   "id": "05dac1b0-234d-4ac5-a2bf-c145691d3b17",
   "metadata": {
    "colab": {
     "base_uri": "https://localhost:8080/"
    },
    "id": "05dac1b0-234d-4ac5-a2bf-c145691d3b17",
    "outputId": "06a88cd1-4a49-4c98-9ee8-39299b6d5a92",
    "tags": []
   },
   "outputs": [],
   "source": [
    "#from google.colab import drive\n",
    "#drive.mount('/content/drive')\n",
    "\n",
    "movies = pd.read_csv(\"./joined4.csv\")"
   ]
  },
  {
   "cell_type": "code",
   "execution_count": 3,
   "id": "c798ec08-7724-4840-b7e0-43aedf78213f",
   "metadata": {
    "colab": {
     "base_uri": "https://localhost:8080/",
     "height": 206
    },
    "id": "c798ec08-7724-4840-b7e0-43aedf78213f",
    "outputId": "fe5c0431-8103-4a7a-9c9b-4467b3bf19f4",
    "scrolled": true,
    "tags": []
   },
   "outputs": [
    {
     "data": {
      "text/html": [
       "<div>\n",
       "<style scoped>\n",
       "    .dataframe tbody tr th:only-of-type {\n",
       "        vertical-align: middle;\n",
       "    }\n",
       "\n",
       "    .dataframe tbody tr th {\n",
       "        vertical-align: top;\n",
       "    }\n",
       "\n",
       "    .dataframe thead th {\n",
       "        text-align: right;\n",
       "    }\n",
       "</style>\n",
       "<table border=\"1\" class=\"dataframe\">\n",
       "  <thead>\n",
       "    <tr style=\"text-align: right;\">\n",
       "      <th></th>\n",
       "      <th>Unnamed: 0</th>\n",
       "      <th>movieId</th>\n",
       "      <th>title</th>\n",
       "      <th>genres</th>\n",
       "      <th>year</th>\n",
       "      <th>overview</th>\n",
       "    </tr>\n",
       "  </thead>\n",
       "  <tbody>\n",
       "    <tr>\n",
       "      <th>0</th>\n",
       "      <td>0</td>\n",
       "      <td>1</td>\n",
       "      <td>Toy Story</td>\n",
       "      <td>Adventure|Animation|Children|Comedy|Fantasy</td>\n",
       "      <td>1995.0</td>\n",
       "      <td>Led by Woody, Andy's toys live happily in his ...</td>\n",
       "    </tr>\n",
       "    <tr>\n",
       "      <th>1</th>\n",
       "      <td>1</td>\n",
       "      <td>2</td>\n",
       "      <td>Jumanji</td>\n",
       "      <td>Adventure|Children|Fantasy</td>\n",
       "      <td>1995.0</td>\n",
       "      <td>When siblings Judy and Peter discover an encha...</td>\n",
       "    </tr>\n",
       "    <tr>\n",
       "      <th>2</th>\n",
       "      <td>2</td>\n",
       "      <td>3</td>\n",
       "      <td>Grumpier Old Men</td>\n",
       "      <td>Comedy|Romance</td>\n",
       "      <td>1995.0</td>\n",
       "      <td>A family wedding reignites the ancient feud be...</td>\n",
       "    </tr>\n",
       "    <tr>\n",
       "      <th>3</th>\n",
       "      <td>3</td>\n",
       "      <td>4</td>\n",
       "      <td>Waiting to Exhale</td>\n",
       "      <td>Comedy|Drama|Romance</td>\n",
       "      <td>1995.0</td>\n",
       "      <td>Cheated on, mistreated and stepped on, the wom...</td>\n",
       "    </tr>\n",
       "    <tr>\n",
       "      <th>4</th>\n",
       "      <td>4</td>\n",
       "      <td>5</td>\n",
       "      <td>Father of the Bride Part II</td>\n",
       "      <td>Comedy</td>\n",
       "      <td>1995.0</td>\n",
       "      <td>Just when George Banks has recovered from his ...</td>\n",
       "    </tr>\n",
       "  </tbody>\n",
       "</table>\n",
       "</div>"
      ],
      "text/plain": [
       "   Unnamed: 0  movieId                        title  \\\n",
       "0           0        1                    Toy Story   \n",
       "1           1        2                      Jumanji   \n",
       "2           2        3             Grumpier Old Men   \n",
       "3           3        4            Waiting to Exhale   \n",
       "4           4        5  Father of the Bride Part II   \n",
       "\n",
       "                                        genres    year  \\\n",
       "0  Adventure|Animation|Children|Comedy|Fantasy  1995.0   \n",
       "1                   Adventure|Children|Fantasy  1995.0   \n",
       "2                               Comedy|Romance  1995.0   \n",
       "3                         Comedy|Drama|Romance  1995.0   \n",
       "4                                       Comedy  1995.0   \n",
       "\n",
       "                                            overview  \n",
       "0  Led by Woody, Andy's toys live happily in his ...  \n",
       "1  When siblings Judy and Peter discover an encha...  \n",
       "2  A family wedding reignites the ancient feud be...  \n",
       "3  Cheated on, mistreated and stepped on, the wom...  \n",
       "4  Just when George Banks has recovered from his ...  "
      ]
     },
     "execution_count": 3,
     "metadata": {},
     "output_type": "execute_result"
    }
   ],
   "source": [
    "movies.head()"
   ]
  },
  {
   "cell_type": "code",
   "execution_count": 4,
   "id": "84a99811-0d5c-46f2-9ec7-4bf015bec2a2",
   "metadata": {
    "id": "84a99811-0d5c-46f2-9ec7-4bf015bec2a2",
    "tags": []
   },
   "outputs": [],
   "source": [
    "movies = movies.drop('Unnamed: 0', axis=1)"
   ]
  },
  {
   "cell_type": "code",
   "execution_count": 5,
   "id": "390ab0c9-4979-4a56-b3b9-5928275ff22e",
   "metadata": {
    "id": "390ab0c9-4979-4a56-b3b9-5928275ff22e",
    "tags": []
   },
   "outputs": [],
   "source": [
    "from sklearn.feature_extraction.text import TfidfVectorizer\n",
    "from sklearn.feature_extraction.text import CountVectorizer\n",
    "from sklearn.metrics.pairwise import cosine_similarity\n",
    "from sklearn.decomposition import TruncatedSVD"
   ]
  },
  {
   "cell_type": "code",
   "execution_count": 6,
   "id": "708db844",
   "metadata": {
    "scrolled": true
   },
   "outputs": [
    {
     "data": {
      "text/plain": [
       "(44203, 66796)"
      ]
     },
     "execution_count": 6,
     "metadata": {},
     "output_type": "execute_result"
    }
   ],
   "source": [
    "\n",
    "# Define the features to use for similarity\n",
    "features = movies[['overview', 'genres']]\n",
    "\n",
    "# Instantiate and fit TfidfVectorizer \n",
    "tfidf = TfidfVectorizer(stop_words='english')\n",
    "tfidf_matrix = tfidf.fit_transform(movies['overview'])\n",
    "\n",
    "# Calculate cosine similarity\n",
    "cosine_sim = cosine_similarity(tfidf_matrix, tfidf_matrix) \n",
    "\n",
    "# Create a mapping of movie titles to indices\n",
    "indices = pd.Series(movies.index, index=movies['title'])\n",
    "\n",
    "# Function to get recommendations\n",
    "tfidf_matrix.shape"
   ]
  },
  {
   "cell_type": "code",
   "execution_count": 25,
   "id": "c4f2d1aa",
   "metadata": {},
   "outputs": [],
   "source": [
    "def get_recommendations(title, cosine_sim=cosine_sim):\n",
    "    \n",
    "    # Get index of movie\n",
    "    idx = indices[title]\n",
    "\n",
    "    # Get pairwise similarity scores  \n",
    "    sim_scores = list(enumerate(cosine_sim[idx]))\n",
    "\n",
    "    # Sort movies by similarity\n",
    "    sim_scores = sorted(sim_scores, key=lambda x: x[1], reverse=True)\n",
    "\n",
    "    # Return top 10 most similar movies\n",
    "    return sim_scores[1:11]\n",
    "\n",
    "# Get recommendations for a movie  \n",
    "ans = get_recommendations(\"Toy Story\")"
   ]
  },
  {
   "cell_type": "code",
   "execution_count": 26,
   "id": "0f595b35",
   "metadata": {},
   "outputs": [
    {
     "name": "stdout",
     "output_type": "stream",
     "text": [
      "Toy Story 3\n",
      "Toy Story 2\n",
      "The Dizzy Acrobat\n",
      "Toy Story 4\n",
      "Small Fry\n",
      "Buzz Lightyear of Star Command: The Adventure Begins\n",
      "Andy Hardy's Blonde Trouble\n",
      "Andy Kaufman Plays Carnegie Hall\n",
      "Hot Splash\n",
      "Superstar: The Life and Times of Andy Warhol\n"
     ]
    }
   ],
   "source": [
    "for i,j in ans:\n",
    "    print(movies['title'][i])"
   ]
  },
  {
   "cell_type": "code",
   "execution_count": null,
   "id": "a2d85aea",
   "metadata": {},
   "outputs": [],
   "source": []
  },
  {
   "cell_type": "code",
   "execution_count": null,
   "id": "919dff7a",
   "metadata": {},
   "outputs": [],
   "source": []
  },
  {
   "cell_type": "code",
   "execution_count": null,
   "id": "b5627b61",
   "metadata": {},
   "outputs": [],
   "source": []
  },
  {
   "cell_type": "code",
   "execution_count": null,
   "id": "697ace7e",
   "metadata": {},
   "outputs": [],
   "source": []
  }
 ],
 "metadata": {
  "colab": {
   "provenance": []
  },
  "kernelspec": {
   "display_name": "Python 3 (ipykernel)",
   "language": "python",
   "name": "python3"
  },
  "language_info": {
   "codemirror_mode": {
    "name": "ipython",
    "version": 3
   },
   "file_extension": ".py",
   "mimetype": "text/x-python",
   "name": "python",
   "nbconvert_exporter": "python",
   "pygments_lexer": "ipython3",
   "version": "3.11.3"
  }
 },
 "nbformat": 4,
 "nbformat_minor": 5
}
