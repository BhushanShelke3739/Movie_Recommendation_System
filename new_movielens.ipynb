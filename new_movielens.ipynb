{
 "cells": [
  {
   "cell_type": "code",
   "execution_count": 1,
   "id": "940a7386-f655-4fc8-ab08-7533d4af7ac6",
   "metadata": {
    "tags": []
   },
   "outputs": [],
   "source": [
    "# importing necessary libraries\n",
    "import numpy as np\n",
    "import pandas as pd\n",
    "import matplotlib.pyplot as plt"
   ]
  },
  {
   "cell_type": "code",
   "execution_count": 2,
   "id": "05dac1b0-234d-4ac5-a2bf-c145691d3b17",
   "metadata": {
    "tags": []
   },
   "outputs": [],
   "source": [
    "movies = pd.read_csv(\"./movies.csv\")"
   ]
  },
  {
   "cell_type": "code",
   "execution_count": 3,
   "id": "8a942dd1-a467-4f51-a668-fce97c242c4c",
   "metadata": {
    "tags": []
   },
   "outputs": [
    {
     "name": "stderr",
     "output_type": "stream",
     "text": [
      "C:\\Users\\bhush\\AppData\\Local\\Temp\\ipykernel_19076\\562480231.py:6: FutureWarning: The default value of regex will change from True to False in a future version.\n",
      "  movies['title'] = movies['title'].str.replace(r'\\(\\d{4}\\)', '').str.strip()\n"
     ]
    }
   ],
   "source": [
    "movies['year'] = movies['title'].str.extract(r'\\((\\d{4})\\)')\n",
    "\n",
    "# Convert the 'year' column to numeric type\n",
    "movies['year'] = pd.to_numeric(movies['year'], errors='coerce')\n",
    "\n",
    "movies['title'] = movies['title'].str.replace(r'\\(\\d{4}\\)', '').str.strip()"
   ]
  },
  {
   "cell_type": "code",
   "execution_count": 4,
   "id": "c798ec08-7724-4840-b7e0-43aedf78213f",
   "metadata": {
    "tags": []
   },
   "outputs": [
    {
     "data": {
      "text/html": [
       "<div>\n",
       "<style scoped>\n",
       "    .dataframe tbody tr th:only-of-type {\n",
       "        vertical-align: middle;\n",
       "    }\n",
       "\n",
       "    .dataframe tbody tr th {\n",
       "        vertical-align: top;\n",
       "    }\n",
       "\n",
       "    .dataframe thead th {\n",
       "        text-align: right;\n",
       "    }\n",
       "</style>\n",
       "<table border=\"1\" class=\"dataframe\">\n",
       "  <thead>\n",
       "    <tr style=\"text-align: right;\">\n",
       "      <th></th>\n",
       "      <th>movieId</th>\n",
       "      <th>title</th>\n",
       "      <th>genres</th>\n",
       "      <th>year</th>\n",
       "    </tr>\n",
       "  </thead>\n",
       "  <tbody>\n",
       "    <tr>\n",
       "      <th>0</th>\n",
       "      <td>1</td>\n",
       "      <td>Toy Story</td>\n",
       "      <td>Adventure|Animation|Children|Comedy|Fantasy</td>\n",
       "      <td>1995.0</td>\n",
       "    </tr>\n",
       "    <tr>\n",
       "      <th>1</th>\n",
       "      <td>2</td>\n",
       "      <td>Jumanji</td>\n",
       "      <td>Adventure|Children|Fantasy</td>\n",
       "      <td>1995.0</td>\n",
       "    </tr>\n",
       "    <tr>\n",
       "      <th>2</th>\n",
       "      <td>3</td>\n",
       "      <td>Grumpier Old Men</td>\n",
       "      <td>Comedy|Romance</td>\n",
       "      <td>1995.0</td>\n",
       "    </tr>\n",
       "    <tr>\n",
       "      <th>3</th>\n",
       "      <td>4</td>\n",
       "      <td>Waiting to Exhale</td>\n",
       "      <td>Comedy|Drama|Romance</td>\n",
       "      <td>1995.0</td>\n",
       "    </tr>\n",
       "    <tr>\n",
       "      <th>4</th>\n",
       "      <td>5</td>\n",
       "      <td>Father of the Bride Part II</td>\n",
       "      <td>Comedy</td>\n",
       "      <td>1995.0</td>\n",
       "    </tr>\n",
       "  </tbody>\n",
       "</table>\n",
       "</div>"
      ],
      "text/plain": [
       "   movieId                        title  \\\n",
       "0        1                    Toy Story   \n",
       "1        2                      Jumanji   \n",
       "2        3             Grumpier Old Men   \n",
       "3        4            Waiting to Exhale   \n",
       "4        5  Father of the Bride Part II   \n",
       "\n",
       "                                        genres    year  \n",
       "0  Adventure|Animation|Children|Comedy|Fantasy  1995.0  \n",
       "1                   Adventure|Children|Fantasy  1995.0  \n",
       "2                               Comedy|Romance  1995.0  \n",
       "3                         Comedy|Drama|Romance  1995.0  \n",
       "4                                       Comedy  1995.0  "
      ]
     },
     "execution_count": 4,
     "metadata": {},
     "output_type": "execute_result"
    }
   ],
   "source": [
    "movies.head()"
   ]
  },
  {
   "cell_type": "code",
   "execution_count": 5,
   "id": "84a99811-0d5c-46f2-9ec7-4bf015bec2a2",
   "metadata": {
    "tags": []
   },
   "outputs": [
    {
     "data": {
      "text/plain": [
       "62423"
      ]
     },
     "execution_count": 5,
     "metadata": {},
     "output_type": "execute_result"
    }
   ],
   "source": [
    "len(movies)"
   ]
  },
  {
   "cell_type": "code",
   "execution_count": 6,
   "id": "34706b7d-dfa6-47df-8a34-ba161ec8ec6e",
   "metadata": {
    "tags": []
   },
   "outputs": [],
   "source": [
    "bigmovies = pd.read_csv(\"./TMDB_movie_dataset_v11.csv\")"
   ]
  },
  {
   "cell_type": "code",
   "execution_count": 7,
   "id": "3252da35-19b3-4c05-b913-1bed8d3eeba8",
   "metadata": {
    "tags": []
   },
   "outputs": [
    {
     "data": {
      "text/plain": [
       "Index(['id', 'title', 'vote_average', 'vote_count', 'status', 'release_date',\n",
       "       'revenue', 'runtime', 'adult', 'budget', 'imdb_id', 'original_language',\n",
       "       'original_title', 'overview', 'popularity', 'tagline', 'genres',\n",
       "       'production_companies', 'production_countries', 'spoken_languages'],\n",
       "      dtype='object')"
      ]
     },
     "execution_count": 7,
     "metadata": {},
     "output_type": "execute_result"
    }
   ],
   "source": [
    "bigmovies.columns"
   ]
  },
  {
   "cell_type": "code",
   "execution_count": 8,
   "id": "862959bf-45c6-450c-bad6-57d7552b2471",
   "metadata": {
    "tags": []
   },
   "outputs": [],
   "source": [
    "cols = ['title','overview']\n",
    "bmov = bigmovies[cols]"
   ]
  },
  {
   "cell_type": "code",
   "execution_count": 9,
   "id": "814d2ae6-207b-4bcc-bcc9-a27c000269f0",
   "metadata": {
    "tags": []
   },
   "outputs": [
    {
     "data": {
      "text/plain": [
       "939492"
      ]
     },
     "execution_count": 9,
     "metadata": {},
     "output_type": "execute_result"
    }
   ],
   "source": [
    "len(bmov)"
   ]
  },
  {
   "cell_type": "code",
   "execution_count": 10,
   "id": "01aa25c7-bdea-41d5-9052-b6a191699c9f",
   "metadata": {
    "tags": []
   },
   "outputs": [],
   "source": [
    "datas = [movies,bmov]\n"
   ]
  },
  {
   "cell_type": "code",
   "execution_count": 22,
   "id": "12666230-7b98-46f3-83c8-da1e520328e9",
   "metadata": {
    "tags": []
   },
   "outputs": [],
   "source": [
    "movL = pd.merge(movies, bmov, on='title',how='left')\n",
    "#movL.to_csv(\"joined.csv\")"
   ]
  },
  {
   "cell_type": "code",
   "execution_count": 24,
   "id": "dd795e74-a167-40b2-aa95-8bd4d9c31647",
   "metadata": {
    "tags": []
   },
   "outputs": [],
   "source": [
    "movL = movL.dropna(subset=['movieId'])\n",
    "movL = movL.dropna(subset=['title'])\n",
    "#movL = movL.drop('overview_x',axis=1)\n",
    "\n",
    "movL = movL.dropna(subset=['overview'])"
   ]
  },
  {
   "cell_type": "code",
   "execution_count": 25,
   "id": "68076c91-c269-45fb-8c0e-05b93e22f5eb",
   "metadata": {
    "tags": []
   },
   "outputs": [
    {
     "data": {
      "text/html": [
       "<div>\n",
       "<style scoped>\n",
       "    .dataframe tbody tr th:only-of-type {\n",
       "        vertical-align: middle;\n",
       "    }\n",
       "\n",
       "    .dataframe tbody tr th {\n",
       "        vertical-align: top;\n",
       "    }\n",
       "\n",
       "    .dataframe thead th {\n",
       "        text-align: right;\n",
       "    }\n",
       "</style>\n",
       "<table border=\"1\" class=\"dataframe\">\n",
       "  <thead>\n",
       "    <tr style=\"text-align: right;\">\n",
       "      <th></th>\n",
       "      <th>movieId</th>\n",
       "      <th>title</th>\n",
       "      <th>genres</th>\n",
       "      <th>year</th>\n",
       "      <th>overview</th>\n",
       "    </tr>\n",
       "  </thead>\n",
       "  <tbody>\n",
       "    <tr>\n",
       "      <th>0</th>\n",
       "      <td>1</td>\n",
       "      <td>Toy Story</td>\n",
       "      <td>Adventure|Animation|Children|Comedy|Fantasy</td>\n",
       "      <td>1995.0</td>\n",
       "      <td>Led by Woody, Andy's toys live happily in his ...</td>\n",
       "    </tr>\n",
       "    <tr>\n",
       "      <th>1</th>\n",
       "      <td>2</td>\n",
       "      <td>Jumanji</td>\n",
       "      <td>Adventure|Children|Fantasy</td>\n",
       "      <td>1995.0</td>\n",
       "      <td>When siblings Judy and Peter discover an encha...</td>\n",
       "    </tr>\n",
       "    <tr>\n",
       "      <th>2</th>\n",
       "      <td>3</td>\n",
       "      <td>Grumpier Old Men</td>\n",
       "      <td>Comedy|Romance</td>\n",
       "      <td>1995.0</td>\n",
       "      <td>A family wedding reignites the ancient feud be...</td>\n",
       "    </tr>\n",
       "    <tr>\n",
       "      <th>3</th>\n",
       "      <td>4</td>\n",
       "      <td>Waiting to Exhale</td>\n",
       "      <td>Comedy|Drama|Romance</td>\n",
       "      <td>1995.0</td>\n",
       "      <td>Cheated on, mistreated and stepped on, the wom...</td>\n",
       "    </tr>\n",
       "    <tr>\n",
       "      <th>4</th>\n",
       "      <td>5</td>\n",
       "      <td>Father of the Bride Part II</td>\n",
       "      <td>Comedy</td>\n",
       "      <td>1995.0</td>\n",
       "      <td>Just when George Banks has recovered from his ...</td>\n",
       "    </tr>\n",
       "    <tr>\n",
       "      <th>...</th>\n",
       "      <td>...</td>\n",
       "      <td>...</td>\n",
       "      <td>...</td>\n",
       "      <td>...</td>\n",
       "      <td>...</td>\n",
       "    </tr>\n",
       "    <tr>\n",
       "      <th>163388</th>\n",
       "      <td>209157</td>\n",
       "      <td>We</td>\n",
       "      <td>Drama</td>\n",
       "      <td>2018.0</td>\n",
       "      <td>200 years have passed after The Great War. The...</td>\n",
       "    </tr>\n",
       "    <tr>\n",
       "      <th>163390</th>\n",
       "      <td>209163</td>\n",
       "      <td>Bad Poems</td>\n",
       "      <td>Comedy|Drama</td>\n",
       "      <td>2018.0</td>\n",
       "      <td>33-years old Tamás Merthner is heartbroken, af...</td>\n",
       "    </tr>\n",
       "    <tr>\n",
       "      <th>163391</th>\n",
       "      <td>209169</td>\n",
       "      <td>A Girl Thing</td>\n",
       "      <td>(no genres listed)</td>\n",
       "      <td>2001.0</td>\n",
       "      <td>A Girl Thing is a mini-series that revolves ar...</td>\n",
       "    </tr>\n",
       "    <tr>\n",
       "      <th>163392</th>\n",
       "      <td>209169</td>\n",
       "      <td>A Girl Thing</td>\n",
       "      <td>(no genres listed)</td>\n",
       "      <td>2001.0</td>\n",
       "      <td>All girl scenes bringing the essence of sensua...</td>\n",
       "    </tr>\n",
       "    <tr>\n",
       "      <th>163393</th>\n",
       "      <td>209171</td>\n",
       "      <td>Women of Devil's Island</td>\n",
       "      <td>Action|Adventure|Drama</td>\n",
       "      <td>1962.0</td>\n",
       "      <td>Italian costume drama about convicted women in...</td>\n",
       "    </tr>\n",
       "  </tbody>\n",
       "</table>\n",
       "<p>142378 rows × 5 columns</p>\n",
       "</div>"
      ],
      "text/plain": [
       "        movieId                        title  \\\n",
       "0             1                    Toy Story   \n",
       "1             2                      Jumanji   \n",
       "2             3             Grumpier Old Men   \n",
       "3             4            Waiting to Exhale   \n",
       "4             5  Father of the Bride Part II   \n",
       "...         ...                          ...   \n",
       "163388   209157                           We   \n",
       "163390   209163                    Bad Poems   \n",
       "163391   209169                 A Girl Thing   \n",
       "163392   209169                 A Girl Thing   \n",
       "163393   209171      Women of Devil's Island   \n",
       "\n",
       "                                             genres    year  \\\n",
       "0       Adventure|Animation|Children|Comedy|Fantasy  1995.0   \n",
       "1                        Adventure|Children|Fantasy  1995.0   \n",
       "2                                    Comedy|Romance  1995.0   \n",
       "3                              Comedy|Drama|Romance  1995.0   \n",
       "4                                            Comedy  1995.0   \n",
       "...                                             ...     ...   \n",
       "163388                                        Drama  2018.0   \n",
       "163390                                 Comedy|Drama  2018.0   \n",
       "163391                           (no genres listed)  2001.0   \n",
       "163392                           (no genres listed)  2001.0   \n",
       "163393                       Action|Adventure|Drama  1962.0   \n",
       "\n",
       "                                                 overview  \n",
       "0       Led by Woody, Andy's toys live happily in his ...  \n",
       "1       When siblings Judy and Peter discover an encha...  \n",
       "2       A family wedding reignites the ancient feud be...  \n",
       "3       Cheated on, mistreated and stepped on, the wom...  \n",
       "4       Just when George Banks has recovered from his ...  \n",
       "...                                                   ...  \n",
       "163388  200 years have passed after The Great War. The...  \n",
       "163390  33-years old Tamás Merthner is heartbroken, af...  \n",
       "163391  A Girl Thing is a mini-series that revolves ar...  \n",
       "163392  All girl scenes bringing the essence of sensua...  \n",
       "163393  Italian costume drama about convicted women in...  \n",
       "\n",
       "[142378 rows x 5 columns]"
      ]
     },
     "execution_count": 25,
     "metadata": {},
     "output_type": "execute_result"
    }
   ],
   "source": [
    "movL"
   ]
  },
  {
   "cell_type": "code",
   "execution_count": 31,
   "id": "588f9b30-7f52-4841-88d8-98f6d9cada31",
   "metadata": {
    "tags": []
   },
   "outputs": [],
   "source": [
    "movL = movL.drop_duplicates(subset=['title'])\n",
    "movL = movL.drop_duplicates(subset=['movieId'])"
   ]
  },
  {
   "cell_type": "code",
   "execution_count": 33,
   "id": "57866b9b-890c-4b67-8a8f-20081a9c9ff7",
   "metadata": {
    "tags": []
   },
   "outputs": [
    {
     "data": {
      "text/plain": [
       "movieId     44203\n",
       "title       44203\n",
       "genres       1381\n",
       "year          131\n",
       "overview    44187\n",
       "dtype: int64"
      ]
     },
     "execution_count": 33,
     "metadata": {},
     "output_type": "execute_result"
    }
   ],
   "source": [
    "movL.drop_duplicates()\n",
    "movL.nunique()"
   ]
  },
  {
   "cell_type": "code",
   "execution_count": 34,
   "id": "628b5f08-30a7-49af-9515-17f8e5cb174c",
   "metadata": {
    "tags": []
   },
   "outputs": [],
   "source": [
    "movL.to_csv(\"joined4.csv\")"
   ]
  },
  {
   "cell_type": "code",
   "execution_count": null,
   "id": "6a7de56a-386e-4f3b-a196-45f56260d200",
   "metadata": {},
   "outputs": [],
   "source": []
  }
 ],
 "metadata": {
  "kernelspec": {
   "display_name": "Python 3 (ipykernel)",
   "language": "python",
   "name": "python3"
  },
  "language_info": {
   "codemirror_mode": {
    "name": "ipython",
    "version": 3
   },
   "file_extension": ".py",
   "mimetype": "text/x-python",
   "name": "python",
   "nbconvert_exporter": "python",
   "pygments_lexer": "ipython3",
   "version": "3.11.3"
  }
 },
 "nbformat": 4,
 "nbformat_minor": 5
}
